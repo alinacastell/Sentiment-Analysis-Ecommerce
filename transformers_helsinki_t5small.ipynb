{
 "cells": [
  {
   "cell_type": "markdown",
   "metadata": {},
   "source": [
    "##### Translation using Helsinki NLP OPUS MT model \n",
    "\n",
    "Using pipeline as a high-level helper.\n",
    "\n",
    "Using as texts to translate the review titles from preprocessed dataset."
   ]
  },
  {
   "cell_type": "code",
   "execution_count": null,
   "metadata": {},
   "outputs": [],
   "source": [
    "# imports\n",
    "import pandas as pd\n",
    "from transformers import pipeline\n",
    "import time"
   ]
  },
  {
   "cell_type": "code",
   "execution_count": 2,
   "metadata": {},
   "outputs": [],
   "source": [
    "# Load dataset and convert to dataframe\n",
    "filename = './data/preprocessed/dataset_shape(108,5).csv'\n",
    "df = pd.read_csv(filename, delimiter=',', index_col=None, header=0)\n",
    "\n",
    "# Separe english and non-english texts\n",
    "df_non_en = df[df['language'] != 'en']"
   ]
  },
  {
   "cell_type": "code",
   "execution_count": 3,
   "metadata": {},
   "outputs": [],
   "source": [
    "# Boolean function definition to select romance languages\n",
    "def languages_contain(language):\n",
    "    languages = ['it', 'ca', 'rm', 'es', 'ro', 'gl', 'co', 'wa', 'pt', 'oc', 'an', 'id', 'fr', 'ht', 'roa', 'en']\n",
    "    return language in languages"
   ]
  },
  {
   "cell_type": "code",
   "execution_count": null,
   "metadata": {},
   "outputs": [],
   "source": [
    "# Using pipeline\n",
    "\n",
    "# Start calculating running time\n",
    "start_time = time.time()\n",
    "\n",
    "# Initialize lists to store translated texts\n",
    "translated_texts = []\n",
    "\n",
    "# Loop through all texts to be translated\n",
    "for i in range(len(df_non_en)):\n",
    "    text = df_non_en['review_title'].iloc[i]\n",
    "    language = df_non_en['language'].iloc[i]\n",
    "    if languages_contain(language):\n",
    "        # Select appropriate model depending on source language\n",
    "        model_checkpoint = 'Helsinki-NLP/opus-mt-roa-en'\n",
    "    else:\n",
    "        src = language\n",
    "        model_checkpoint = f'Helsinki-NLP/opus-mt-{src}-en'\n",
    "    \n",
    "    translator = pipeline(\"translation\", model=model_checkpoint)\n",
    "    translation = translator(text)\n",
    "    translated_texts.append(translation[0]['translation_text'])\n",
    "\n",
    "# End timing\n",
    "end_time = time.time()\n",
    "\n",
    "# Calculate elapsed time\n",
    "elapsed_time = end_time - start_time\n",
    "print(\"Total time taken:\", elapsed_time, \"seconds\")\n"
   ]
  },
  {
   "cell_type": "code",
   "execution_count": 5,
   "metadata": {},
   "outputs": [
    {
     "data": {
      "text/plain": [
       "['PERFECT!',\n",
       " 'disappointment',\n",
       " 'Very nice',\n",
       " 'Very nice and comfortable',\n",
       " 'Beautiful....sin for the number',\n",
       " 'Well made shoes, excellent seller',\n",
       " 'Very comfortable shoe',\n",
       " 'Perfect.',\n",
       " 'Large',\n",
       " 'Stupendous',\n",
       " \"It's cute, but it's a shame.\",\n",
       " \"It's light and very comfortable!\",\n",
       " 'Pain in the child...',\n",
       " 'From the display it is not clear which size it is',\n",
       " 'Very sensitive',\n",
       " 'Be careful until you get used to it.',\n",
       " 'The toes are fine.',\n",
       " 'Great shoe, bad quality!!!',\n",
       " 'Perfect smell',\n",
       " 'Falling down narrower',\n",
       " 'Favourite shoe!',\n",
       " 'Top',\n",
       " \"Great children's shoe\",\n",
       " 'Good design',\n",
       " \"Great, I'm hitting it.\",\n",
       " 'Pressed from the top',\n",
       " 'Original product',\n",
       " 'Very good winter boots!',\n",
       " \"Perfect even for slightly wider children's feet\",\n",
       " 'Super rubber boots',\n",
       " 'Robust, warm winter rubber boots',\n",
       " 'Beautiful Boy Boots',\n",
       " 'Good winter rubber boots',\n",
       " 'Great for Dinofans',\n",
       " 'Resistant',\n",
       " 'Beautiful boots but quite heavy',\n",
       " 'Very satisfied',\n",
       " 'Very comfortable',\n",
       " 'Damaged',\n",
       " 'Well-made sandals!',\n",
       " 'Good',\n",
       " 'Excellent purchase',\n",
       " 'EFFECTIVE',\n",
       " 'Restraints',\n",
       " 'Waiting for a feedback from two weeks back',\n",
       " 'Excellent sandal Lumberjack, precise size, good quality',\n",
       " 'Excellent value for money',\n",
       " 'I buy a couple of them every year I use them a lot when I go on vacation',\n",
       " 'Sandal Review',\n",
       " 'Asics Evoride 2',\n",
       " 'quality',\n",
       " 'Smallly damaged shoes on the soles.',\n",
       " \"It's good, sir.\",\n",
       " 'Excellent shoes']"
      ]
     },
     "execution_count": 5,
     "metadata": {},
     "output_type": "execute_result"
    }
   ],
   "source": [
    "(translated_texts[:len(translated_texts)])"
   ]
  },
  {
   "cell_type": "markdown",
   "metadata": {},
   "source": [
    "#### Similar procedure but with T5 small model"
   ]
  },
  {
   "cell_type": "code",
   "execution_count": 8,
   "metadata": {},
   "outputs": [
    {
     "name": "stdout",
     "output_type": "stream",
     "text": [
      "Total time taken: 56.4572229385376 seconds\n"
     ]
    }
   ],
   "source": [
    "# Using pipeline for T5 small model\n",
    "\n",
    "# Start calculating running time\n",
    "start_time = time.time()\n",
    "\n",
    "# Initialize lists to store translated texts\n",
    "translated_texts = []\n",
    "model_checkpoint = 't5-small'\n",
    "# Loop through all texts to be translated\n",
    "for i in range(len(df_non_en)):\n",
    "    text = df_non_en['review_title'].iloc[i]\n",
    "    src_lang = df_non_en['language'].iloc[i]\n",
    "    \n",
    "    translator = pipeline(f\"translation_{src_lang}_to_en\", model=model_checkpoint)\n",
    "    translation = translator(text, max_length=400)\n",
    "    translated_texts.append(translation[0]['translation_text'])\n",
    "\n",
    "# End timing\n",
    "end_time = time.time()\n",
    "\n",
    "# Calculate elapsed time\n",
    "elapsed_time = end_time - start_time\n",
    "print(\"Total time taken:\", elapsed_time, \"seconds\")\n"
   ]
  },
  {
   "cell_type": "code",
   "execution_count": 9,
   "metadata": {},
   "outputs": [
    {
     "data": {
      "text/plain": [
       "['PERFETTE!!',\n",
       " 'a',\n",
       " 'Molto belle',\n",
       " 'Molto carine e comode',\n",
       " 'Bellissime....peccato per il numero',\n",
       " 'Scarpe ben realizzate, venditore ottimo',\n",
       " 'Schuh, Sehr bequemer Schuh',\n",
       " 'Perfetto',\n",
       " 'Grandi',\n",
       " 'Stupende',\n",
       " '',\n",
       " '!',\n",
       " 'Schmerzen am Kind...',\n",
       " 'Aus der Anzeige es wird nicht klar welche Größe es ist, wie groß es ist.',\n",
       " 'Sehr empfindlich',\n",
       " '',\n",
       " '',\n",
       " 'Toller Schuh, schlechte Qualität!!!',\n",
       " 'Perfekt schuche',\n",
       " 'Fällt schmäler aus',\n",
       " '!',\n",
       " 'Top',\n",
       " 'Toller Kinderschuh',\n",
       " 'Buen diseo',\n",
       " 'Sehr groß , mein Sohn liebt es!',\n",
       " 'Apretado de la parte de arriba',\n",
       " 'Producto Original',\n",
       " '!',\n",
       " 'Perfekt auch für etwas breitere Kinderfüße Perfekt auch für etwas breitere Kinderfüße.',\n",
       " 'Super Gummistiefel',\n",
       " 'Robuste, warme Winter-Gummistiefel',\n",
       " 'Schöner Jungen Stiefel',\n",
       " 'Gut Gute Wintergummistiefel',\n",
       " 'Toll für Dinofans',\n",
       " '',\n",
       " 'Schön Schöne Stiefel aber ziemlich schwer',\n",
       " 'sehr zufrieden sehr zufrieden sehr zufrieden sehr zufrieden sehr zufrieden! sehr zufrieden sehr zufrieden! sehr zufrieden! sehr zufrieden! sehr zufrieden!',\n",
       " 'Sehr bequem und freundlich.',\n",
       " 'Hasarl',\n",
       " 'Sandaletti ben fatti!',\n",
       " 'Buone',\n",
       " 'Ottimo acquisto',\n",
       " 'OTTIME',\n",
       " 'Res Res Res Res Res Res Res Res Res Res Res Res Res Res Res Res Res Res Res Res Res Res Res Res Res Res Res Res Res Res Res Res Res Res Res Res Res Res Res Res Res Res Res Res Res Res Res Res Res Res Res Res Res Res Res Res Res Res Res Res Res Res Res Res Res Res Res Res Res Res Res Res Res Res Res Res Res Res Res Res Res Res Res Res Res Res Res Res Res Res Res Res Res Res Res Res Res Res Res Res Res Res Res Res Res Res Res Res Res Res Res Res Res',\n",
       " 'In attesa di un feedback di reso da due settimane in attesa di un feedback di reso da due settimane.',\n",
       " 'Ottimo sandalo Lumberjack, taglia precisa, buona qualità',\n",
       " 'Ottimo rapporto qualità prezzo',\n",
       " 'compro unpaio ogni anno le uso tantissimo quando vado in vacanza.',\n",
       " 'Recensione sandalo',\n",
       " 'Asics Evoride 2',\n",
       " 'qualité qualité qualité qualité qualité qualité qualité qualité qualité qualité qualité qualité qualité qualité qualité qualité qualité qualité qualité qualité qualité qualité qualité qualité qualité qualité qualité qualité qualité qualité qualité qualité qualité qualité qualité qualité qualité qualité qualité qualité qualité qualité qualité qualité qualité qualité qualité qualité qualité qualité qualité qualité qualité qualité qualité qualité qualité qualité qualité qualité qualité qualité qualité qualité qualité qualité qualité qualité qualité qualité qualité qualité qualité qualité qualité qualité qualité qualité qualité qualité qualité qualité qualité qualité qualité qualité qualité qualité qualité qualité qualité qualité qualité qualité qualité qualité qualité qualité qualité qualité qualité qualité qualité qualité qualité qualité qualité qualité qualité qualité qualité qualité qualité',\n",
       " '',\n",
       " '',\n",
       " '']"
      ]
     },
     "execution_count": 9,
     "metadata": {},
     "output_type": "execute_result"
    }
   ],
   "source": [
    "(translated_texts[:len(translated_texts)])"
   ]
  },
  {
   "cell_type": "code",
   "execution_count": null,
   "metadata": {},
   "outputs": [],
   "source": []
  }
 ],
 "metadata": {
  "kernelspec": {
   "display_name": ".venvtransformers",
   "language": "python",
   "name": "python3"
  },
  "language_info": {
   "codemirror_mode": {
    "name": "ipython",
    "version": 3
   },
   "file_extension": ".py",
   "mimetype": "text/x-python",
   "name": "python",
   "nbconvert_exporter": "python",
   "pygments_lexer": "ipython3",
   "version": "3.11.7"
  }
 },
 "nbformat": 4,
 "nbformat_minor": 2
}
