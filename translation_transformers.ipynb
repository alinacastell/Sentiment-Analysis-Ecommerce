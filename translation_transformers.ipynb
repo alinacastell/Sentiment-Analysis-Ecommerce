{
 "cells": [
  {
   "cell_type": "markdown",
   "metadata": {},
   "source": [
    "### Language translation using Transformers Pipeline\n",
    "\n"
   ]
  },
  {
   "cell_type": "code",
   "execution_count": null,
   "metadata": {},
   "outputs": [],
   "source": [
    "from transformers import pipeline, AutoTokenizer, AutoModelForSeq2SeqLM\n",
    "from transformers import T5Tokenizer, T5ForConditionalGeneration, MarianTokenizer, MarianMTModel\n",
    "import pandas as pd"
   ]
  },
  {
   "cell_type": "code",
   "execution_count": 2,
   "metadata": {},
   "outputs": [],
   "source": [
    "# Load dataset \n",
    "filename = './data/preprocessed/dataset_shape(108,5).csv'\n",
    "og_df = pd.read_csv(filename, delimiter=',', index_col=None, header=0)"
   ]
  },
  {
   "cell_type": "code",
   "execution_count": 3,
   "metadata": {},
   "outputs": [
    {
     "data": {
      "text/plain": [
       "language\n",
       "en    54\n",
       "de    20\n",
       "it    19\n",
       "ja     6\n",
       "es     5\n",
       "fr     2\n",
       "tr     1\n",
       "pt     1\n",
       "Name: count, dtype: int64"
      ]
     },
     "execution_count": 3,
     "metadata": {},
     "output_type": "execute_result"
    }
   ],
   "source": [
    "# Number of reviews for each detected language\n",
    "og_df['language'].value_counts()"
   ]
  },
  {
   "cell_type": "markdown",
   "metadata": {},
   "source": [
    "##### Translate for Deutch reviews (Loading the model directly)\n",
    "\n",
    "Step by step"
   ]
  },
  {
   "cell_type": "code",
   "execution_count": 4,
   "metadata": {},
   "outputs": [
    {
     "data": {
      "text/plain": [
       "10    Der Schuh 👟gefällt mir sehr gut. Der ist super...\n",
       "34    An sich wunderschöner Schuh, auspacken und dir...\n",
       "35    Auf einem der Fotos steht auf der Sohle die gr...\n",
       "48    Die Oberfläche ist sehr empfindlich und sieht ...\n",
       "51    Eigentlich ein ganz toller und bequemer Schuh ...\n",
       "52                          Komfort und perfekt schucse\n",
       "53    Ein wunderschöner Lederschuh, der allerdings d...\n",
       "54    Unser Tochter (20 M) zieht diese Schuhe sehr g...\n",
       "55    Beste Schuhe von Superfit generell. Wir sind i...\n",
       "56    Super, hochwertiger Kinderschuh. Meine Tochter...\n",
       "67    Mein 4- jähriger Sohn liebt diese Stiefel und ...\n",
       "68    Beck Gummistiefel begleiten uns nun schon eini...\n",
       "69    Habe die Gummistiefel für meine beiden Kinder ...\n",
       "70    Ich habe diese Gummistiefel nun das zweite Mal...\n",
       "71    Die Gummistiefel sind sehr schön verarbeitet u...\n",
       "72    Mein Sohn ist sehr zufrieden. Die Stiefel sind...\n",
       "73    Sohnemann brauchte neue Gummistiefel und diese...\n",
       "75    Die Stiefel sehen schön aus und die Blinklicht...\n",
       "77    die Lieferung kam sehr schnell und gut verpack...\n",
       "78    Suuuuper bequeme Schuhe, mein Mann sagt, er lä...\n",
       "Name: review_text, dtype: object"
      ]
     },
     "execution_count": 4,
     "metadata": {},
     "output_type": "execute_result"
    }
   ],
   "source": [
    "de_review = og_df.loc[og_df['language']=='de', 'review_text']\n",
    "de_review"
   ]
  },
  {
   "cell_type": "code",
   "execution_count": null,
   "metadata": {},
   "outputs": [],
   "source": [
    "# Load model directly\n",
    "\n",
    "src = \"de\"  # source language\n",
    "trg = \"en\"  # target language\n",
    "\n",
    "model_name = f\"Helsinki-NLP/opus-mt-{src}-{trg}\"\n",
    "\n",
    "tokenizer = AutoTokenizer.from_pretrained(model_name)\n",
    "model = AutoModelForSeq2SeqLM.from_pretrained(model_name)"
   ]
  },
  {
   "cell_type": "code",
   "execution_count": 12,
   "metadata": {},
   "outputs": [
    {
     "name": "stdout",
     "output_type": "stream",
     "text": [
      "text is: Der Schuh 👟gefällt mir sehr gut. Der ist super bequem und leicht. Binsehr zu frieden. Danke \n",
      "and type is: <class 'str'>\n"
     ]
    }
   ],
   "source": [
    "test_text = de_review.iloc[0]\n",
    "print(f\"text is: {test_text} \\nand type is: {type(test_text)}\")"
   ]
  },
  {
   "cell_type": "code",
   "execution_count": 15,
   "metadata": {},
   "outputs": [
    {
     "name": "stdout",
     "output_type": "stream",
     "text": [
      "{'input_ids': [119, 14784, 17, 1, 377, 18307, 278, 261, 519, 3, 119, 29, 3780, 9694, 10, 1847, 3, 8254, 6, 7936, 24, 17, 7415, 15, 3, 6174, 0], 'attention_mask': [1, 1, 1, 1, 1, 1, 1, 1, 1, 1, 1, 1, 1, 1, 1, 1, 1, 1, 1, 1, 1, 1, 1, 1, 1, 1, 1]}\n",
      "Der Schuh <unk> gefällt mir sehr gut. Der ist super bequem und leicht. Binsehr zu frieden. Danke</s>\n"
     ]
    }
   ],
   "source": [
    "# AutoTokenizer class from transformers library explained\n",
    "# First, the tokenizer is loaded from the pretrained model previously defined\n",
    "# Then, the tokenizer received as input parameter a sentence or list of sentences\n",
    "# Finally, it returns a dictionary string to list of tokens for each sentence\n",
    "\n",
    "encoded_input = tokenizer(test_text)\n",
    "print(encoded_input)\n",
    "\n",
    "# These lists of tokens can be decoded to the original input sentences\n",
    "print(tokenizer.decode(encoded_input['input_ids']))"
   ]
  },
  {
   "cell_type": "code",
   "execution_count": 16,
   "metadata": {},
   "outputs": [
    {
     "name": "stdout",
     "output_type": "stream",
     "text": [
      "{'input_ids': tensor([[  119, 14784,    17,     1,   377, 18307,   278,   261,   519,     3,\n",
      "           119,    29,  3780,  9694,    10,  1847,     3,  8254,     6,  7936,\n",
      "            24,    17,  7415,    15,     3,  6174,     0]]), 'attention_mask': tensor([[1, 1, 1, 1, 1, 1, 1, 1, 1, 1, 1, 1, 1, 1, 1, 1, 1, 1, 1, 1, 1, 1, 1, 1,\n",
      "         1, 1, 1]])}\n"
     ]
    }
   ],
   "source": [
    "# A batch is created when the tokens need to be feed to a model\n",
    "# Then the output of the tokenizer are tensors\n",
    "batch = tokenizer([test_text], return_tensors=\"pt\")\n",
    "print(batch)"
   ]
  },
  {
   "cell_type": "code",
   "execution_count": 17,
   "metadata": {},
   "outputs": [
    {
     "data": {
      "text/plain": [
       "'I like the shoe very well. It is super comfortable and light. Very happy. Thanks'"
      ]
     },
     "execution_count": 17,
     "metadata": {},
     "output_type": "execute_result"
    }
   ],
   "source": [
    "generated_ids = model.generate(**batch)\n",
    "tokenizer.batch_decode(generated_ids, skip_special_tokens=True)[0]"
   ]
  },
  {
   "cell_type": "markdown",
   "metadata": {},
   "source": [
    "##### Translate for Spanish reviews and check if correctly translated"
   ]
  },
  {
   "cell_type": "code",
   "execution_count": null,
   "metadata": {},
   "outputs": [],
   "source": [
    "# Load model directly\n",
    "src = \"es\"  # source language\n",
    "trg = \"en\"  # target language\n",
    "\n",
    "model_name = f\"Helsinki-NLP/opus-mt-{src}-{trg}\"\n",
    "\n",
    "tokenizer = AutoTokenizer.from_pretrained(model_name)\n",
    "model = AutoModelForSeq2SeqLM.from_pretrained(model_name)"
   ]
  },
  {
   "cell_type": "code",
   "execution_count": 27,
   "metadata": {},
   "outputs": [
    {
     "name": "stdout",
     "output_type": "stream",
     "text": [
      "text is: Muy cómodo para el Niño\n",
      "text is: Muy lindos pero aprietan de la parte de Arriba\n",
      "text is: Producto original, de buena calidad. Talla justa, Cumplió las expectativas.\n",
      "text is: Resistentes, no entra agua los días de lluvia y con un diseño informal que tanto sirve para llevar con uniforme al colegio o para unos vaqueros en fin de semana. Perfectos\n",
      "text is: Muy cómodos para trote o caminatas, los recomiendo\n",
      "--------------------------------------\n",
      "Very comfortable for the Child\n",
      "Very nice but tight from the top part\n",
      "Original product, good quality. Fair size, met expectations.\n",
      "Resistant, no water enters the rainy days and with an informal design that serves so much to carry in uniform to the school or for jeans on weekend. Perfect\n",
      "Very comfortable for jogging or hiking, I recommend them\n"
     ]
    }
   ],
   "source": [
    "# Select sentences to translate\n",
    "es_review = og_df.loc[og_df['language']=='es', 'review_text']\n",
    "\n",
    "# Select sample review text\n",
    "test_text = []\n",
    "for i in range(len(es_review)):\n",
    "    test_text.append(es_review.iloc[i])\n",
    "    print(f\"text is: {test_text[i]}\")\n",
    "\n",
    "print(f\"--------------------------------------\")\n",
    "# Tokenize input batch (for now list of texts) with padding and truncation to be able to create tensors\n",
    "batch = tokenizer(test_text, padding=True, truncation=True, return_tensors=\"pt\")\n",
    "\n",
    "# Feed the model with tokenized batch and translate\n",
    "generated_ids = model.generate(**batch)\n",
    "for i in range(len(es_review)):\n",
    "    print(tokenizer.batch_decode(generated_ids, skip_special_tokens=True)[i])"
   ]
  },
  {
   "cell_type": "markdown",
   "metadata": {},
   "source": [
    "##### Translate for French reviews (Using a pipeline as a high-level helper)\n",
    "\n",
    "Note: actually 1 review is detected as fr incorrectly"
   ]
  },
  {
   "cell_type": "code",
   "execution_count": 4,
   "metadata": {},
   "outputs": [
    {
     "data": {
      "text/plain": [
       "63                                         No complains\n",
       "92    très belle  chaussure tient bien le pied avec ...\n",
       "Name: review_text, dtype: object"
      ]
     },
     "execution_count": 4,
     "metadata": {},
     "output_type": "execute_result"
    }
   ],
   "source": [
    "fr_review = og_df.loc[og_df['language']=='fr', 'review_text']\n",
    "fr_review"
   ]
  },
  {
   "cell_type": "code",
   "execution_count": 5,
   "metadata": {},
   "outputs": [
    {
     "data": {
      "text/plain": [
       "'très belle  chaussure tient bien le pied avec un amortie parfait pour des kms de footing  a recommander'"
      ]
     },
     "execution_count": 5,
     "metadata": {},
     "output_type": "execute_result"
    }
   ],
   "source": [
    "# Locate and print the only true French review\n",
    "(fr_review.iloc[1])"
   ]
  },
  {
   "cell_type": "code",
   "execution_count": null,
   "metadata": {},
   "outputs": [],
   "source": [
    "# Use a pipeline as a high-level helper\n",
    "\n",
    "model_checkpoint = \"Helsinki-NLP/opus-mt-fr-en\"\n",
    "translator = pipeline(\"translation\", model=model_checkpoint)"
   ]
  },
  {
   "cell_type": "code",
   "execution_count": 15,
   "metadata": {},
   "outputs": [
    {
     "data": {
      "text/plain": [
       "[{'translation_text': 'very nice shoe holds well the foot with a perfect cushion for kms of footing to recommend'}]"
      ]
     },
     "execution_count": 15,
     "metadata": {},
     "output_type": "execute_result"
    }
   ],
   "source": [
    "translator(fr_review.iloc[1])"
   ]
  },
  {
   "cell_type": "code",
   "execution_count": 36,
   "metadata": {},
   "outputs": [
    {
     "data": {
      "text/plain": [
       "transformers.pipelines.text2text_generation.TranslationPipeline"
      ]
     },
     "execution_count": 36,
     "metadata": {},
     "output_type": "execute_result"
    }
   ],
   "source": [
    "type(translator)"
   ]
  },
  {
   "cell_type": "markdown",
   "metadata": {},
   "source": [
    "T5-small model using a pipeline"
   ]
  },
  {
   "cell_type": "code",
   "execution_count": 13,
   "metadata": {},
   "outputs": [
    {
     "name": "stdout",
     "output_type": "stream",
     "text": [
      "[{'translation_text': \"Très belle chaussure tient bien le pied avec un amortie parfait pour des kms de footing a recommander a recommander en recommandant l'adoption d'une recommandation.\"}]\n",
      "[{'translation_text': 'très jolie chaussure tient bien le pied avec un coussin parfait pour les kilomètres de pied à recommander'}]\n"
     ]
    }
   ],
   "source": [
    "# test en to fr for model=t5-small\n",
    "# It does not seem to work from fr to en\n",
    "en_fr_translator = pipeline(\"translation_fr_to_en\", model='t5-small')\n",
    "print(en_fr_translator(fr_review.iloc[1], max_length=400))\n",
    "# It works from en to fr\n",
    "en_fr_translator = pipeline(\"translation_en_to_fr\", model='t5-small')\n",
    "print(en_fr_translator('very nice shoe holds well the foot with a perfect cushion for kms of footing to recommend'))"
   ]
  },
  {
   "cell_type": "markdown",
   "metadata": {},
   "source": [
    "Loading T5-small model and using T5 tokenizer "
   ]
  },
  {
   "cell_type": "code",
   "execution_count": null,
   "metadata": {},
   "outputs": [],
   "source": [
    "# Loading pre-trained T5 model from transformers library\n",
    "t5_tokenizer = T5Tokenizer.from_pretrained('t5-small')\n",
    "t5_model = T5ForConditionalGeneration.from_pretrained('t5-small')\n",
    "# Defining input text (in French)\n",
    "input_text = fr_review.iloc[1]\n",
    "# Encode input text using tokenizer\n",
    "input_ids = t5_tokenizer.encode(input_text, return_tensors='pt')\n",
    "# Generate output tokens and decode them\n",
    "outputs = t5_model.generate(input_ids)\n",
    "output_text = t5_tokenizer.decode(outputs[0], skip_special_tokens=True)"
   ]
  },
  {
   "cell_type": "code",
   "execution_count": 14,
   "metadata": {},
   "outputs": [
    {
     "name": "stdout",
     "output_type": "stream",
     "text": [
      "Très belle chaussure tient bien le pied avec un amortie parfait pour des kms\n"
     ]
    }
   ],
   "source": [
    "# Print output text\n",
    "print(output_text)"
   ]
  },
  {
   "cell_type": "markdown",
   "metadata": {},
   "source": [
    "(T5 does not seem to work either)"
   ]
  },
  {
   "cell_type": "markdown",
   "metadata": {},
   "source": [
    "#### Romance languages translation to English\n",
    "\n",
    "Using OPUS-MT model and MarianMT Tokenizer. Having as inputs batches of texts in different languages."
   ]
  },
  {
   "cell_type": "code",
   "execution_count": null,
   "metadata": {},
   "outputs": [],
   "source": [
    "# Load model and tokenizer\n",
    "model_checkpoint = 'Helsinki-NLP/opus-mt-roa-en'\n",
    "model = MarianMTModel.from_pretrained(model_checkpoint)\n",
    "tokenizer = MarianTokenizer.from_pretrained(model_checkpoint)\n",
    "\n",
    "# Define input texts\n",
    "input_text = [\n",
    "    \">>en<< très belle  chaussure tient bien le pied avec un amortie parfait pour des kms de footing  a recommander\",\n",
    "    \">>en<< Resistentes, no entra agua los días de lluvia y con un diseño informal que tanto sirve para llevar con uniforme \\\n",
    "            al colegio o para unos vaqueros en fin de semana.\",\n",
    "    \">>en<< Muy lindos pero aprietan de la parte de Arriba\"\n",
    "]\n",
    "\n",
    "translated = model.generate(**tokenizer(input_text, return_tensors=\"pt\", padding=True))\n"
   ]
  },
  {
   "cell_type": "code",
   "execution_count": null,
   "metadata": {},
   "outputs": [],
   "source": [
    "tgt_text = [tokenizer.decode(t, skip_special_tokens=True) for t in translated]"
   ]
  },
  {
   "cell_type": "markdown",
   "metadata": {},
   "source": [
    "#### Evaluate models using METEOR and BLUE"
   ]
  }
 ],
 "metadata": {
  "kernelspec": {
   "display_name": ".venv",
   "language": "python",
   "name": "python3"
  },
  "language_info": {
   "codemirror_mode": {
    "name": "ipython",
    "version": 3
   },
   "file_extension": ".py",
   "mimetype": "text/x-python",
   "name": "python",
   "nbconvert_exporter": "python",
   "pygments_lexer": "ipython3",
   "version": "3.11.7"
  }
 },
 "nbformat": 4,
 "nbformat_minor": 2
}
