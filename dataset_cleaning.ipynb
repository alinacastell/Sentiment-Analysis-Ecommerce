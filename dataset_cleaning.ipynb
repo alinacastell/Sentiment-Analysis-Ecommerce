{
 "cells": [
  {
   "cell_type": "markdown",
   "metadata": {},
   "source": [
    "### Ecommerce dataset preprocessing\n",
    "\n",
    "Notebook aimed at preprocessing an ecommerce dataset. \n",
    "\n",
    "A new subset will be created containing a 100 rows and 4 columns, ['product_name', 'review_title', 'review_text', 'review_rating']. \n",
    "\n",
    "An API call is made to translate all reviews into English. Two new columns will be added for the translation of the review text and the translation of the review title, making the shape of the final df (100,6). \n",
    "\n",
    "This preprocessed dataframe will be stored a csv locally and will be used from now on in the next working notebooks.\n",
    "\n",
    "###### (Finished on 11.03.2024)"
   ]
  },
  {
   "cell_type": "code",
   "execution_count": 1,
   "metadata": {},
   "outputs": [],
   "source": [
    "# imports required\n",
    "import pandas as pd\n",
    "import os\n",
    "import numpy as np\n",
    "import openai\n",
    "from dotenv import load_dotenv\n",
    "import time # Used to pause the API call function to avoid exceeding rate limit\n",
    "from langdetect import detect, detect_langs"
   ]
  },
  {
   "cell_type": "code",
   "execution_count": 3,
   "metadata": {},
   "outputs": [],
   "source": [
    "# Load dataset \n",
    "filename = './data/raw/amazon_uk_dataset.csv'\n",
    "df = pd.read_csv(filename, delimiter=',', index_col=None, header=0)"
   ]
  },
  {
   "cell_type": "code",
   "execution_count": 4,
   "metadata": {},
   "outputs": [],
   "source": [
    "# OpenAI API SDK\n",
    "load_dotenv('APIopenAI.env')\n",
    "api_key = os.getenv('API_KEY')"
   ]
  },
  {
   "cell_type": "markdown",
   "metadata": {},
   "source": [
    "#### Dataframe's size reduction"
   ]
  },
  {
   "cell_type": "code",
   "execution_count": 5,
   "metadata": {},
   "outputs": [
    {
     "data": {
      "text/plain": [
       "(100, 4)"
      ]
     },
     "execution_count": 5,
     "metadata": {},
     "output_type": "execute_result"
    }
   ],
   "source": [
    "# Reduce number of rows and columns\n",
    "df = df[:100]\n",
    "col_to_keep = ['product_name','review_title','review_text','review_rating']\n",
    "df = df[col_to_keep]\n",
    "df.shape"
   ]
  },
  {
   "cell_type": "code",
   "execution_count": 6,
   "metadata": {},
   "outputs": [
    {
     "name": "stdout",
     "output_type": "stream",
     "text": [
      "Empty DataFrame\n",
      "Columns: [product_name, review_title, review_text, review_rating]\n",
      "Index: []\n"
     ]
    }
   ],
   "source": [
    "# Check dataframe's columns\n",
    "print(df[:0])"
   ]
  },
  {
   "cell_type": "markdown",
   "metadata": {},
   "source": [
    "#### Language review classification"
   ]
  },
  {
   "cell_type": "code",
   "execution_count": 7,
   "metadata": {},
   "outputs": [],
   "source": [
    "# Function using a langdetect library to detect language of input text\n",
    "\n",
    "def language_detection(text, method = \"single\"):\n",
    "\n",
    "  \"\"\"\n",
    "  @desc: \n",
    "    - detects the language of a text\n",
    "  @params:\n",
    "    - text: the text which language needs to be detected\n",
    "    - method: detection method: \n",
    "      single: if the detection is based on the first option (detect)\n",
    "  @return:\n",
    "    - the langue/list of languages\n",
    "  \"\"\"\n",
    "\n",
    "  if(method.lower() != \"single\"):\n",
    "    result = detect_langs(text)\n",
    "\n",
    "  else:\n",
    "    result = detect(text)\n",
    "\n",
    "  return result"
   ]
  },
  {
   "cell_type": "code",
   "execution_count": 17,
   "metadata": {},
   "outputs": [],
   "source": [
    "# Creation of list to keep track of each row's language\n",
    "language = []\n",
    "reviews = df['review_text']\n",
    "for i in range(len(reviews)):\n",
    "    language.append(language_detection(reviews[i]))"
   ]
  },
  {
   "cell_type": "code",
   "execution_count": 15,
   "metadata": {},
   "outputs": [
    {
     "name": "stdout",
     "output_type": "stream",
     "text": [
      "(100, 6)\n",
      "Empty DataFrame\n",
      "Columns: [product_name, review_title, review_text, review_rating, language, translated_text]\n",
      "Index: []\n"
     ]
    }
   ],
   "source": [
    "# Add language detection and translated review text columns\n",
    "df['language'] = language\n",
    "df['translated_text'] = df['review_text']\n",
    "print(df.shape)\n",
    "# Check dataframe's columns\n",
    "print(df[:0])"
   ]
  },
  {
   "cell_type": "code",
   "execution_count": 33,
   "metadata": {},
   "outputs": [],
   "source": [
    "# Create batch of 20 chunks to control API call request limit\n",
    "reviews_batch=reviews[:10]"
   ]
  },
  {
   "cell_type": "code",
   "execution_count": 35,
   "metadata": {},
   "outputs": [
    {
     "name": "stdout",
     "output_type": "stream",
     "text": [
      "row is 0\n",
      "row is 1\n",
      "row is 2\n",
      "row is 3\n",
      "row is 4\n"
     ]
    },
    {
     "name": "stderr",
     "output_type": "stream",
     "text": [
      "C:\\Users\\AlinaCastell\\AppData\\Local\\Temp\\ipykernel_10532\\2438847508.py:38: SettingWithCopyWarning: \n",
      "A value is trying to be set on a copy of a slice from a DataFrame\n",
      "\n",
      "See the caveats in the documentation: https://pandas.pydata.org/pandas-docs/stable/user_guide/indexing.html#returning-a-view-versus-a-copy\n",
      "  df['translated_text'][row] = translation\n"
     ]
    },
    {
     "name": "stdout",
     "output_type": "stream",
     "text": [
      "review translation:  I chose the white model with black back finish and I can say that up close the shoes are even more beautiful, my size is 38, 38.5 and I ordered size 38 and it fits me well. Fast shipping, the package arrived even earlier than expected, great price considering that they cost at least 10, 15 euros more around. \n",
      "\n",
      "row is 5\n"
     ]
    },
    {
     "name": "stderr",
     "output_type": "stream",
     "text": [
      "C:\\Users\\AlinaCastell\\AppData\\Local\\Temp\\ipykernel_10532\\2438847508.py:38: SettingWithCopyWarning: \n",
      "A value is trying to be set on a copy of a slice from a DataFrame\n",
      "\n",
      "See the caveats in the documentation: https://pandas.pydata.org/pandas-docs/stable/user_guide/indexing.html#returning-a-view-versus-a-copy\n",
      "  df['translated_text'][row] = translation\n"
     ]
    },
    {
     "name": "stdout",
     "output_type": "stream",
     "text": [
      "review translation:  I usually buy Guess shoes and I have never had any problems with the size, in this case, however, I received shoes that, despite being the usual size I take, are very small, it almost seems two sizes smaller, so unwearable \n",
      "\n",
      "row is 6\n"
     ]
    },
    {
     "name": "stderr",
     "output_type": "stream",
     "text": [
      "C:\\Users\\AlinaCastell\\AppData\\Local\\Temp\\ipykernel_10532\\2438847508.py:38: SettingWithCopyWarning: \n",
      "A value is trying to be set on a copy of a slice from a DataFrame\n",
      "\n",
      "See the caveats in the documentation: https://pandas.pydata.org/pandas-docs/stable/user_guide/indexing.html#returning-a-view-versus-a-copy\n",
      "  df['translated_text'][row] = translation\n"
     ]
    },
    {
     "name": "stdout",
     "output_type": "stream",
     "text": [
      "review translation:  The shoes are very beautiful, they fit perfectly \n",
      "\n",
      "row is 7\n"
     ]
    },
    {
     "name": "stderr",
     "output_type": "stream",
     "text": [
      "C:\\Users\\AlinaCastell\\AppData\\Local\\Temp\\ipykernel_10532\\2438847508.py:38: SettingWithCopyWarning: \n",
      "A value is trying to be set on a copy of a slice from a DataFrame\n",
      "\n",
      "See the caveats in the documentation: https://pandas.pydata.org/pandas-docs/stable/user_guide/indexing.html#returning-a-view-versus-a-copy\n",
      "  df['translated_text'][row] = translation\n"
     ]
    },
    {
     "name": "stdout",
     "output_type": "stream",
     "text": [
      "review translation:  Simply perfect. I use custom insoles for flat feet, and they fit perfectly in these shoes. The shoe is comfortable and provides good stability to the foot. I recommend them. \n",
      "\n",
      "row is 8\n"
     ]
    },
    {
     "name": "stderr",
     "output_type": "stream",
     "text": [
      "C:\\Users\\AlinaCastell\\AppData\\Local\\Temp\\ipykernel_10532\\2438847508.py:38: SettingWithCopyWarning: \n",
      "A value is trying to be set on a copy of a slice from a DataFrame\n",
      "\n",
      "See the caveats in the documentation: https://pandas.pydata.org/pandas-docs/stable/user_guide/indexing.html#returning-a-view-versus-a-copy\n",
      "  df['translated_text'][row] = translation\n"
     ]
    },
    {
     "name": "stdout",
     "output_type": "stream",
     "text": [
      "review translation:  The shoes are beautiful, arrived in perfect condition with impeccable shipping, unfortunately the size 41 was tight for me and since they don't make size 42, I had to return them, the seller was available and kind \n",
      "\n",
      "row is 9\n"
     ]
    },
    {
     "name": "stderr",
     "output_type": "stream",
     "text": [
      "C:\\Users\\AlinaCastell\\AppData\\Local\\Temp\\ipykernel_10532\\2438847508.py:38: SettingWithCopyWarning: \n",
      "A value is trying to be set on a copy of a slice from a DataFrame\n",
      "\n",
      "See the caveats in the documentation: https://pandas.pydata.org/pandas-docs/stable/user_guide/indexing.html#returning-a-view-versus-a-copy\n",
      "  df['translated_text'][row] = translation\n"
     ]
    },
    {
     "name": "stdout",
     "output_type": "stream",
     "text": [
      "review translation:  The shoes are well made and the seller is very precise because I had to make a return and he refunded me perfectly. Well done. It stays in favorites. \n",
      "\n"
     ]
    }
   ],
   "source": [
    "# Loop over each row and perform review TITLE translation\n",
    "# Replace review column with column name that requires translation\n",
    "\n",
    "# General system instructions\n",
    "system_instructions = f\"You will be provided with a text. You have to translate to English.\\\n",
    "    The output format of your answers is ONLY:<Translated text: output translated text>\\\n",
    "        \"\n",
    "\n",
    "# Default values in response that should not be in df\n",
    "default = [\"<\", \"Translated text: \", \">\"]\n",
    "\n",
    "# Loop through only the titles that are not written in English\n",
    "for row in range(len(reviews_batch)):\n",
    "    # Filter language's list row index for non-English reviews  \n",
    "    if df['language'][row] != 'en':\n",
    "        # Prompt with one review row every iteration\n",
    "        prompt = f\"Translate to English. \\\n",
    "            Text:<<<{reviews_batch[row]}>>>\"\n",
    "        # Call API\n",
    "        response = openai.OpenAI(api_key=api_key).chat.completions.create(\n",
    "            model=\"gpt-3.5-turbo\",\n",
    "            messages=[\n",
    "                {\"role\": \"system\", \"content\": system_instructions},\n",
    "                {\"role\": \"user\", \"content\": prompt}\n",
    "            ],\n",
    "            #temperature=0,\n",
    "            max_tokens=128,  # Increase max_tokens to retrieve more than one token\n",
    "            n=1,\n",
    "            stop=None\n",
    "        )\n",
    "        translation = response.choices[0].message.content\n",
    "        #print(f\"review response is\", translation,\"\\n\")\n",
    "        for i in default:\n",
    "            translation = translation.replace(i,\"\")\n",
    "\n",
    "        # Modify the translated_title list by replacing the titles in English\n",
    "        df['translated_text'][row] = translation\n",
    "        print(f\"review translation: \",translation,\"\\n\")\n",
    "\n",
    "# Pause for 0.5 seconds to avoid hitting API rate limits\n",
    "time.sleep(0.5)\n"
   ]
  },
  {
   "cell_type": "code",
   "execution_count": 36,
   "metadata": {},
   "outputs": [
    {
     "name": "stdout",
     "output_type": "stream",
     "text": [
      "Love these. Was looking for converses and these were half the price and so unique— I’ve never seen clear shoes like these; they fit great. The plastic takes a little getting used to but the style is so worth it.\n",
      "The shoes are very cute, but after the 2nd day of wearing them the tongue started ripping. After the 3rd day of wearing them the plastic on the side ripped. They could have ripped bc I was wearing them to work and I do a lot of walking at work. If you’re going to buy these I don’t recommend wearing them on days where you will do a lot of walking or they might rip\n",
      "Good quality\n",
      "Great\n",
      "I chose the white model with black back finish and I can say that up close the shoes are even more beautiful, my size is 38, 38.5 and I ordered size 38 and it fits me well. Fast shipping, the package arrived even earlier than expected, great price considering that they cost at least 10, 15 euros more around.\n",
      "I usually buy Guess shoes and I have never had any problems with the size, in this case, however, I received shoes that, despite being the usual size I take, are very small, it almost seems two sizes smaller, so unwearable\n",
      "The shoes are very beautiful, they fit perfectly\n",
      "Simply perfect. I use custom insoles for flat feet, and they fit perfectly in these shoes. The shoe is comfortable and provides good stability to the foot. I recommend them.\n",
      "The shoes are beautiful, arrived in perfect condition with impeccable shipping, unfortunately the size 41 was tight for me and since they don't make size 42, I had to return them, the seller was available and kind\n",
      "The shoes are well made and the seller is very precise because I had to make a return and he refunded me perfectly. Well done. It stays in favorites.\n"
     ]
    }
   ],
   "source": [
    "# Command to check that the batch's reviews are indeed translated to English\n",
    "for i in range(len(df['translated_text'][:10])):\n",
    "    print(df['translated_text'][i])"
   ]
  },
  {
   "cell_type": "code",
   "execution_count": 67,
   "metadata": {},
   "outputs": [],
   "source": [
    "# Save dataset on current path\n",
    "filename = './data/preprocessed/amazon_uk_subset_2.csv'\n",
    "df.to_csv(filename, index=False, header=0)"
   ]
  },
  {
   "cell_type": "code",
   "execution_count": null,
   "metadata": {},
   "outputs": [],
   "source": []
  }
 ],
 "metadata": {
  "kernelspec": {
   "display_name": ".venv",
   "language": "python",
   "name": ".venv"
  },
  "language_info": {
   "codemirror_mode": {
    "name": "ipython",
    "version": 3
   },
   "file_extension": ".py",
   "mimetype": "text/x-python",
   "name": "python",
   "nbconvert_exporter": "python",
   "pygments_lexer": "ipython3",
   "version": "3.11.7"
  }
 },
 "nbformat": 4,
 "nbformat_minor": 2
}
